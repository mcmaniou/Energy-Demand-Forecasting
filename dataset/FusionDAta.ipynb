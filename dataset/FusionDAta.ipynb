{
 "cells": [
  {
   "cell_type": "code",
   "execution_count": 1,
   "metadata": {},
   "outputs": [],
   "source": [
    "import pandas as pd\n",
    "import numpy as np\n"
   ]
  },
  {
   "cell_type": "code",
   "execution_count": 99,
   "metadata": {},
   "outputs": [],
   "source": [
    "dfenergy = pd.read_csv(\"energy_dataset.csv\")\n",
    "dfenergy=dfenergy.set_index(\"time\")\n",
    "df=dfenergy[[\"total load actual\"]]\n",
    "dfenergy=df"
   ]
  },
  {
   "cell_type": "code",
   "execution_count": 100,
   "metadata": {},
   "outputs": [
    {
     "name": "stdout",
     "output_type": "stream",
     "text": [
      "35145\n",
      "35064\n",
      "(35064, 12)\n",
      "36267\n",
      "35064\n",
      "(35064, 12)\n",
      "35951\n",
      "35064\n",
      "(35064, 12)\n",
      "35476\n",
      "35064\n",
      "(35064, 12)\n",
      "35557\n",
      "35064\n",
      "(35064, 12)\n"
     ]
    }
   ],
   "source": [
    "dfweather = pd.read_csv(\"weather_features.csv\")\n",
    "\n",
    "for city in dfweather[\"city_name\"].unique():\n",
    "    dfcity=dfweather[dfweather[\"city_name\"]==city]\n",
    "    print(len(dfcity.index))\n",
    "    dfcity=dfcity.drop_duplicates('dt_iso')\n",
    "    print(len(temp))\n",
    "    dfcity=dfcity.set_index(\"dt_iso\")\n",
    "    dfcity=dfcity.drop([\"temp_max\",\"temp_min\",\"city_name\",\"weather_icon\",\"weather_description\",\"weather_main\"],axis=1)\n",
    "    dfcity.columns=[ city+\"_\"+name for name in dfcity.columns]\n",
    "    print(dfcity.shape)\n",
    "    dfenergy=dfenergy.join(dfcity,how=\"inner\")"
   ]
  },
  {
   "cell_type": "code",
   "execution_count": 102,
   "metadata": {},
   "outputs": [],
   "source": [
    "dfenergy.to_csv(\"finaldataset.csv\")"
   ]
  }
 ],
 "metadata": {
  "kernelspec": {
   "display_name": "Python 3",
   "language": "python",
   "name": "python3"
  },
  "language_info": {
   "codemirror_mode": {
    "name": "ipython",
    "version": 3
   },
   "file_extension": ".py",
   "mimetype": "text/x-python",
   "name": "python",
   "nbconvert_exporter": "python",
   "pygments_lexer": "ipython3",
   "version": "3.7.4"
  }
 },
 "nbformat": 4,
 "nbformat_minor": 2
}
